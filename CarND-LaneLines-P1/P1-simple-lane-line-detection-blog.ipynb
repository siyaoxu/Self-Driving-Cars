{
 "cells": [
  {
   "cell_type": "markdown",
   "metadata": {},
   "source": [
    "# Self-Driving Car Engineer Nanodegree - Project 1\n",
    "\n",
    "## **Finding Lane Lines on the Road** \n",
    "***\n",
    "\n",
    "**This is my first project of the Udacity Self-Driving Car Nanodegree. In this project, I have developed a Python pipeline finding lane lines from images and videos taken by a camera set in the front of the vehicle. This pipeline integrated computer vision tools including color filter, Canny filer, and Hough transform with OpenCV. This blog documents my final implementation of the pipeline and have tested it with a video.**"
   ]
  },
  {
   "cell_type": "markdown",
   "metadata": {},
   "source": [
    "## Import Packages"
   ]
  },
  {
   "cell_type": "code",
   "execution_count": 1,
   "metadata": {
    "collapsed": true
   },
   "outputs": [],
   "source": [
    "#importing some useful packages\n",
    "import matplotlib.pyplot as plt\n",
    "import matplotlib.image as mpimg\n",
    "import numpy as np\n",
    "import scipy as sp\n",
    "import cv2\n",
    "import math\n",
    "# Import everything needed to edit/save/watch video clips\n",
    "from moviepy.editor import VideoFileClip\n",
    "from IPython.display import HTML\n",
    "%matplotlib inline"
   ]
  },
  {
   "cell_type": "markdown",
   "metadata": {},
   "source": [
    "## Functions"
   ]
  },
  {
   "cell_type": "markdown",
   "metadata": {},
   "source": [
    "Below are functions used in the pipeline, some of which are provided by the nanodegree. They are wrapups of OpenCV functions."
   ]
  },
  {
   "cell_type": "code",
   "execution_count": 2,
   "metadata": {
    "collapsed": true
   },
   "outputs": [],
   "source": [
    "import math\n",
    "\n",
    "def grayscale(img):\n",
    "    \"\"\"Applies the Grayscale transform\n",
    "    This will return an image with only one color channel\n",
    "    but NOTE: to see the returned image as grayscale\n",
    "    (assuming your grayscaled image is called 'gray')\n",
    "    you should call plt.imshow(gray, cmap='gray')\"\"\"\n",
    "    return cv2.cvtColor(img, cv2.COLOR_RGB2GRAY)\n",
    "    # Or use BGR2GRAY if you read an image with cv2.imread()\n",
    "    # return cv2.cvtColor(img, cv2.COLOR_BGR2GRAY)\n",
    "    \n",
    "def canny(img, low_threshold, high_threshold):\n",
    "    \"\"\"Applies the Canny transform\"\"\"\n",
    "    return cv2.Canny(img, low_threshold, high_threshold)\n",
    "\n",
    "def gaussian_blur(img, kernel_size):\n",
    "    \"\"\"Applies a Gaussian Noise kernel\"\"\"\n",
    "    return cv2.GaussianBlur(img, (kernel_size, kernel_size), 0)\n",
    "\n",
    "def region_of_interest(img, vertices):\n",
    "    \"\"\"\n",
    "    Applies an image mask.\n",
    "    \n",
    "    Only keeps the region of the image defined by the polygon\n",
    "    formed from `vertices`. The rest of the image is set to black.\n",
    "    \"\"\"\n",
    "    #defining a blank mask to start with\n",
    "    mask = np.zeros_like(img)   \n",
    "    \n",
    "    #defining a 3 channel or 1 channel color to fill the mask with depending on the input image\n",
    "    if len(img.shape) > 2:\n",
    "        channel_count = img.shape[2]  # i.e. 3 or 4 depending on your image\n",
    "        ignore_mask_color = (255,) * channel_count\n",
    "    else:\n",
    "        ignore_mask_color = 255\n",
    "        \n",
    "    #filling pixels inside the polygon defined by \"vertices\" with the fill color    \n",
    "    cv2.fillPoly(mask, vertices, ignore_mask_color)\n",
    "    \n",
    "    #returning the image only where mask pixels are nonzero\n",
    "    masked_image = cv2.bitwise_and(img, mask)\n",
    "    return masked_image\n",
    "\n",
    "\n",
    "def draw_lines(img, lines, color=[255, 0, 0], thickness=2):\n",
    "    \"\"\"\n",
    "    NOTE: this is the function you might want to use as a starting point once you want to \n",
    "    average/extrapolate the line segments you detect to map out the full\n",
    "    extent of the lane (going from the result shown in raw-lines-example.mp4\n",
    "    to that shown in P1_example.mp4).  \n",
    "    \n",
    "    Think about things like separating line segments by their \n",
    "    slope ((y2-y1)/(x2-x1)) to decide which segments are part of the left\n",
    "    line vs. the right line.  Then, you can average the position of each of \n",
    "    the lines and extrapolate to the top and bottom of the lane.\n",
    "    \n",
    "    This function draws `lines` with `color` and `thickness`.    \n",
    "    Lines are drawn on the image inplace (mutates the image).\n",
    "    If you want to make the lines semi-transparent, think about combining\n",
    "    this function with the weighted_img() function below\n",
    "    \"\"\"\n",
    "    for line in lines:\n",
    "        for x1,y1,x2,y2 in line:\n",
    "            cv2.line(img, (x1, y1), (x2, y2), color, thickness)\n",
    "\n",
    "# def hough_lines(img, rho, theta, threshold, min_line_len, max_line_gap):\n",
    "#     \"\"\"\n",
    "#     `img` should be the output of a Canny transform.\n",
    "        \n",
    "#     Returns an image with hough lines drawn.\n",
    "#     \"\"\"\n",
    "#     lines = cv2.HoughLinesP(img, rho, theta, threshold, np.array([]), minLineLength=min_line_len, maxLineGap=max_line_gap)\n",
    "#     line_img = np.zeros((img.shape[0], img.shape[1], 3), dtype=np.uint8)\n",
    "#     draw_lines(line_img, lines)\n",
    "#     return line_img\n",
    "def hough_lines(img, rho, theta, threshold, min_line_len, max_line_gap):\n",
    "    \"\"\"\n",
    "    `img` should be the output of a Canny transform.\n",
    "        \n",
    "    Returns an image with hough lines drawn\n",
    "    \"\"\"\n",
    "    lines = cv2.HoughLinesP(img, rho, theta, threshold, np.array([]), minLineLength=min_line_len, maxLineGap=max_line_gap)\n",
    "    line_img = np.zeros((img.shape[0], img.shape[1], 3), dtype=np.uint8)\n",
    "    \n",
    "    draw_lines(line_img, lines)\n",
    "    return line_img\n",
    "\n",
    "# Polyfit a line using all points\n",
    "def hough_linesF(img, rho, theta, threshold, min_line_len, max_line_gap,X):\n",
    "    \"\"\"\n",
    "    `img` should be the output of a Canny transform.\n",
    "        \n",
    "    Returns an image with FITTED hough lines drawn.\n",
    "    \"\"\"\n",
    "    lines = cv2.HoughLinesP(img, rho, theta, threshold, np.array([]), minLineLength=min_line_len, maxLineGap=max_line_gap)\n",
    "    line_img = np.zeros((img.shape[0], img.shape[1], 3), dtype=np.uint8)\n",
    "    # delete short segements and use the first frac% longest segments for polyfit\n",
    "    segLen = np.sqrt( (lines[:,:,3] - lines[:,:,1])**2 + (lines[:,:,2] - lines[:,:,0])**2 )\n",
    "    # seperate line segments by the slope:\n",
    "    # left segments are those with positive slope, right segments are those with negative slpe\n",
    "    # calculate [slope ,intercept] for each segment\n",
    "    segP = np.hstack([ (lines[:,:,3]-lines[:,:,1])/(lines[:,:,2]-lines[:,:,0]), # slope\n",
    "                     lines[:,:,1]-lines[:,:,0]*(lines[:,:,3]-lines[:,:,1])/(lines[:,:,2]-lines[:,:,0]) ])  # intercept\n",
    "    # remove lines with slopes in [-h,h] degrees\n",
    "    h = 25\n",
    "    lines = lines[(segP[:,0]>(0+np.pi/180*h)) | (segP[:,0]<(0-np.pi/180*h))]\n",
    "    segP = segP[(segP[:,0]>(0+np.pi/180*h)) | (segP[:,0]<(0-np.pi/180*h))]\n",
    "    # average coefficients for the left and right line segments\n",
    "    leftLines = lines[segP[:,0]<0]\n",
    "    rightLines = lines[segP[:,0]>0]\n",
    "    # use only the first frac% longest segments for polyfit\n",
    "    segLen = np.sqrt( (lines[:,:,3] - lines[:,:,1])**2 + (lines[:,:,2] - lines[:,:,0])**2 )\n",
    "    # select the longest frac% segments to calculate the average slope and\n",
    "    leftSegLen = segLen[segP[:,0]<0]\n",
    "    rightSegLen = segLen[segP[:,0]>0]\n",
    "    # sort segment length and calculate the average slope and intercept using the top frac% longest segments\n",
    "    frac = 0.85\n",
    "    nLeftSeg = np.amax([1,np.int32(np.round(len(leftLines)*frac))])\n",
    "    leftLines = leftLines[leftSegLen[:,0].argsort()[-nLeftSeg:]]\n",
    "    nRightSeg = np.amax([1,np.int32(np.round(len(rightLines)*frac))])\n",
    "    rightLines = rightLines[rightSegLen[:,0].argsort()[-nRightSeg:]]\n",
    "\n",
    "    # build x,y arrays for each line for np.polyfit\n",
    "    leftX, leftY = (np.vstack([leftLines[:,:,0], leftLines[:,:,2]]).squeeze(), \n",
    "                   np.vstack([leftLines[:,:,1],leftLines[:,:,3]]).squeeze())\n",
    "    rightX, rightY = (np.vstack([rightLines[:,:,0], rightLines[:,:,2]]).squeeze(), \n",
    "                      np.vstack([rightLines[:,:,1],rightLines[:,:,3]]).squeeze())\n",
    "\n",
    "    # polyfit the line order = 1\n",
    "    leftP, rightP = np.polyfit(leftX, leftY,1), np.polyfit(rightX, rightY,1)\n",
    "    # calculate lines \n",
    "    interpLeftX, interpRightX = np.int32(list(range(X[0],X[1]))), np.int32(list(range(X[2],X[3])))\n",
    "    # calculate the interpolated lines\n",
    "    interpLeftY, interpRightY = ( np.int32(np.round(leftP[0]*interpLeftX+leftP[1])),\n",
    "                                  np.int32(np.round(rightP[0]*interpRightX+rightP[1])) )\n",
    "                                                                 \n",
    "    # generate lines for draw_lines() function\n",
    "    interpLeftLines, interpRightLines = np.stack([interpLeftX[0:-1], interpLeftY[0:-1], interpLeftX[1:], interpLeftY[1:]], axis=1), \\\n",
    "                                        np.stack([interpRightX[0:-1], interpRightY[0:-1], interpRightX[1:], interpRightY[1:]], axis=1)\n",
    "    fittedLines = np.vstack([interpLeftLines,interpRightLines])\n",
    "    fittedLines = fittedLines[:,np.newaxis,:]\n",
    "    \n",
    "    draw_lines(line_img, fittedLines,thickness = 10)\n",
    "\n",
    "    return line_img\n",
    "# Python 3 has support for cool math symbols.\n",
    "\n",
    "def weighted_img(img, initial_img, α=0.8, β=1., λ=0.):\n",
    "    \"\"\"\n",
    "    `img` is the output of the hough_lines(), An image with lines drawn on it.\n",
    "    Should be a blank image (all black) with lines drawn on it.\n",
    "    \n",
    "    `initial_img` should be the image before any processing.\n",
    "    \n",
    "    The result image is computed as follows:\n",
    "    \n",
    "    initial_img * α + img * β + λ\n",
    "    NOTE: initial_img and img must be the same shape!\n",
    "    \"\"\"\n",
    "    return cv2.addWeighted(initial_img, α, img, β, λ)"
   ]
  },
  {
   "cell_type": "markdown",
   "metadata": {},
   "source": [
    "## Lane Detection Pipeline"
   ]
  },
  {
   "cell_type": "markdown",
   "metadata": {},
   "source": [
    "Build the pipeline and run your solution on all test_images. Make copies into the `test_images_output` directory, and you can use the images in your writeup report.\n",
    "\n",
    "Try tuning the various parameters, especially the low and high Canny thresholds as well as the Hough lines parameters."
   ]
  },
  {
   "cell_type": "code",
   "execution_count": 3,
   "metadata": {
    "collapsed": true
   },
   "outputs": [],
   "source": [
    "# TODO: Build your pipeline that will draw lane lines on the test_images\n",
    "# then save them to the test_images directory.\n",
    "\n",
    "def findLaneT(img, colorLower, colorUpper, cannyLow, cannyHigh, kernel_size, vertices, \n",
    "             rho, theta, threshold, min_line_len, max_line_gap, fitLines = False):\n",
    "    \"\"\"\n",
    "    lane finding function - for this following challenge video\n",
    "    \"\"\"\n",
    "    # convert RGB to HSV for better color-based segmentation\n",
    "    hsvImg = cv2.cvtColor(img,cv2.COLOR_RGB2HSV)\n",
    "    # segment the image by HSV color\n",
    "    colorMask = cv2.bitwise_or(cv2.inRange(hsvImg, colorLower[0],colorUpper[0]), cv2.inRange(hsvImg, colorLower[1],colorUpper[1]))\n",
    "    maskedImg = cv2.bitwise_and(img,img,mask=colorMask)\n",
    "    # perform edge detection by canny filter\n",
    "    grayImg = grayscale(maskedImg)\n",
    "    gBlurImg = gaussian_blur(grayImg, kernel_size)\n",
    "    cannyImg = canny(gBlurImg,cannyLow, cannyHigh)\n",
    "    roiImg = region_of_interest(cannyImg, vertices)\n",
    "    # extract linear features with Hough filter, we can choose to use the raw line segments \n",
    "    # or an averaged line of the raw segments\n",
    "    if fitLines==True:\n",
    "        # plot a averaged line of all filtered line segments\n",
    "        houghImg = hough_linesF(roiImg, rho, theta, threshold, min_line_len, max_line_gap,\n",
    "                                [vertices[0,1,0],vertices[0,0,0],vertices[0,3,0],vertices[0,2,0]])\n",
    "    else:\n",
    "        # plot filtered line segments\n",
    "        houghImg = hough_lines(roiImg, rho, theta, threshold, min_line_len, max_line_gap)\n",
    "    finalImg = weighted_img(houghImg, img, α=0.8, β=1., λ=0.)\n",
    "    \n",
    "#     # plot the ROI on the video\n",
    "#     roiLines = np.array([  [np.hstack([vertices[0,0,:].squeeze(),vertices[0,1,:].squeeze()])], \n",
    "#                            [np.hstack([vertices[0,1,:].squeeze(),vertices[0,2,:].squeeze()])],\n",
    "#                            [np.hstack([vertices[0,2,:].squeeze(),vertices[0,3,:].squeeze()])],\n",
    "#                            [np.hstack([vertices[0,3,:].squeeze(),vertices[0,0,:].squeeze()])]\n",
    "#                          ])\n",
    "#     draw_lines(finalImg, roiLines, color=[255, 255, 0], thickness=4)\n",
    "    return finalImg"
   ]
  },
  {
   "cell_type": "code",
   "execution_count": 4,
   "metadata": {
    "collapsed": true
   },
   "outputs": [],
   "source": [
    "def process_imageT(image, fitLine = False):\n",
    "    # NOTE: The output you return should be a color image (3 channel) for processing video below\n",
    "    # TODO: put your pipeline here,\n",
    "    # you should return the final output (image where lines are drawn on lanes)\n",
    "#     fig = plt.figure();\n",
    "#     ax2 = fig.add_subplot(122)\n",
    "\n",
    "    # HSV colors\n",
    "    colorLower = [np.uint8([0,0,210]), np.uint8([20,85,150])] # [lower_white,lower_yellow]\n",
    "    colorUpper = [np.uint8([255,25,255]), np.uint8([25,255,255])] # [upper_white,upper_yellow]\n",
    "    \n",
    "    cannyLow = 120\n",
    "    cannyHigh = 180\n",
    "    \n",
    "    kernel_size = 9\n",
    "    vertices = np.array([[[600,440], [240,660], [1100, 660], [740,440]]],dtype = np.int32)\n",
    "    rho = 1\n",
    "    theta = np.pi/180\n",
    "    threshold = 17\n",
    "    min_line_len = 7\n",
    "    max_line_gap = 7\n",
    "    \n",
    "    laneImg = findLaneT(image, colorLower, colorUpper,cannyLow, cannyHigh, kernel_size, vertices, \n",
    "                       rho, theta, threshold, min_line_len, max_line_gap, fitLine)\n",
    "    return laneImg"
   ]
  },
  {
   "cell_type": "code",
   "execution_count": 5,
   "metadata": {
    "scrolled": false
   },
   "outputs": [
    {
     "name": "stdout",
     "output_type": "stream",
     "text": [
      "[MoviePy] >>>> Building video test_videos_output/challenge.mp4\n",
      "[MoviePy] Writing video test_videos_output/challenge.mp4\n"
     ]
    },
    {
     "name": "stderr",
     "output_type": "stream",
     "text": [
      "100%|████████████████████████████████████████████████████████████████████████████████| 251/251 [00:14<00:00, 17.36it/s]\n"
     ]
    },
    {
     "name": "stdout",
     "output_type": "stream",
     "text": [
      "[MoviePy] Done.\n",
      "[MoviePy] >>>> Video ready: test_videos_output/challenge.mp4 \n",
      "\n",
      "Wall time: 16.6 s\n"
     ]
    }
   ],
   "source": [
    "def process_image_fitLineT(image):\n",
    "    '''\n",
    "    fit a polyfit line for both lane markers\n",
    "    '''\n",
    "    return process_imageT(image,fitLine=True)\n",
    "\n",
    "challenge_output = 'test_videos_output/challenge.mp4'\n",
    "## To speed up the testing process you may want to try your pipeline on a shorter subclip of the video\n",
    "## To do so add .subclip(start_second,end_second) to the end of the line below\n",
    "## Where start_second and end_second are integer values representing the start and end of the subclip\n",
    "## You may also uncomment the following line for a subclip of the first 5 seconds\n",
    "##clip3 = VideoFileClip('test_videos/challenge.mp4').subclip(0,5)\n",
    "clip3 = VideoFileClip('test_videos/challenge.mp4')\n",
    "challenge_clip = clip3.fl_image(process_image_fitLineT)\n",
    "# challenge_clip = clip3.fl_image(process_imageT)\n",
    "%time challenge_clip.write_videofile(challenge_output, audio=False)"
   ]
  },
  {
   "cell_type": "code",
   "execution_count": 6,
   "metadata": {},
   "outputs": [
    {
     "data": {
      "text/html": [
       "\n",
       "<video width=\"960\" height=\"540\" controls>\n",
       "  <source src=\"test_videos_output/challenge.mp4\">\n",
       "</video>\n"
      ],
      "text/plain": [
       "<IPython.core.display.HTML object>"
      ]
     },
     "execution_count": 6,
     "metadata": {},
     "output_type": "execute_result"
    }
   ],
   "source": [
    "HTML(\"\"\"\n",
    "<video width=\"960\" height=\"540\" controls>\n",
    "  <source src=\"{0}\">\n",
    "</video>\n",
    "\"\"\".format(challenge_output))"
   ]
  }
 ],
 "metadata": {
  "anaconda-cloud": {},
  "kernelspec": {
   "display_name": "Python 3",
   "language": "python",
   "name": "python3"
  },
  "language_info": {
   "codemirror_mode": {
    "name": "ipython",
    "version": 3
   },
   "file_extension": ".py",
   "mimetype": "text/x-python",
   "name": "python",
   "nbconvert_exporter": "python",
   "pygments_lexer": "ipython3",
   "version": "3.5.2"
  },
  "widgets": {
   "state": {},
   "version": "1.1.2"
  }
 },
 "nbformat": 4,
 "nbformat_minor": 1
}
