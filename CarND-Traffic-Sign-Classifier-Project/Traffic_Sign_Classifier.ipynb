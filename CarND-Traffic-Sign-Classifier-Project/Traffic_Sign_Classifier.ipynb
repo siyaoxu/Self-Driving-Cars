{
 "cells": [
  {
   "cell_type": "markdown",
   "metadata": {},
   "source": [
    "# Self-Driving Car Engineer Nanodegree\n",
    "\n",
    "## Deep Learning\n",
    "\n",
    "## Project: Build a Traffic Sign Recognition Classifier\n",
    "\n",
    "In this notebook, a template is provided for you to implement your functionality in stages, which is required to successfully complete this project. If additional code is required that cannot be included in the notebook, be sure that the Python code is successfully imported and included in your submission if necessary. \n",
    "\n",
    "> **Note**: Once you have completed all of the code implementations, you need to finalize your work by exporting the iPython Notebook as an HTML document. Before exporting the notebook to html, all of the code cells need to have been run so that reviewers can see the final implementation and output. You can then export the notebook by using the menu above and navigating to  \\n\",\n",
    "    \"**File -> Download as -> HTML (.html)**. Include the finished document along with this notebook as your submission. \n",
    "\n",
    "In addition to implementing code, there is a writeup to complete. The writeup should be completed in a separate file, which can be either a markdown file or a pdf document. There is a [write up template](https://github.com/udacity/CarND-Traffic-Sign-Classifier-Project/blob/master/writeup_template.md) that can be used to guide the writing process. Completing the code template and writeup template will cover all of the [rubric points](https://review.udacity.com/#!/rubrics/481/view) for this project.\n",
    "\n",
    "The [rubric](https://review.udacity.com/#!/rubrics/481/view) contains \"Stand Out Suggestions\" for enhancing the project beyond the minimum requirements. The stand out suggestions are optional. If you decide to pursue the \"stand out suggestions\", you can include the code in this Ipython notebook and also discuss the results in the writeup file.\n",
    "\n",
    "\n",
    ">**Note:** Code and Markdown cells can be executed using the **Shift + Enter** keyboard shortcut. In addition, Markdown cells can be edited by typically double-clicking the cell to enter edit mode."
   ]
  },
  {
   "cell_type": "markdown",
   "metadata": {},
   "source": [
    "---\n",
    "## Step 0: Load The Data"
   ]
  },
  {
   "cell_type": "code",
   "execution_count": 1,
   "metadata": {
    "collapsed": true
   },
   "outputs": [],
   "source": [
    "# Load pickled data\n",
    "import pickle\n",
    "\n",
    "# TODO: Fill this in based on where you saved the training and testing data\n",
    "\n",
    "training_file = './traffic-signs-data/train.p'\n",
    "validation_file= './traffic-signs-data/test.p'\n",
    "testing_file = './traffic-signs-data/valid.p'\n",
    "\n",
    "with open(training_file, mode='rb') as f:\n",
    "    train = pickle.load(f)\n",
    "with open(validation_file, mode='rb') as f:\n",
    "    valid = pickle.load(f)\n",
    "with open(testing_file, mode='rb') as f:\n",
    "    test = pickle.load(f)\n",
    "    \n",
    "X_train, y_train = train['features'], train['labels']\n",
    "X_valid, y_valid = valid['features'], valid['labels']\n",
    "X_test, y_test = test['features'], test['labels']"
   ]
  },
  {
   "cell_type": "markdown",
   "metadata": {},
   "source": [
    "---\n",
    "\n",
    "## Step 1: Dataset Summary & Exploration\n",
    "\n",
    "The pickled data is a dictionary with 4 key/value pairs:\n",
    "\n",
    "- `'features'` is a 4D array containing raw pixel data of the traffic sign images, (num examples, width, height, channels).\n",
    "- `'labels'` is a 1D array containing the label/class id of the traffic sign. The file `signnames.csv` contains id -> name mappings for each id.\n",
    "- `'sizes'` is a list containing tuples, (width, height) representing the original width and height the image.\n",
    "- `'coords'` is a list containing tuples, (x1, y1, x2, y2) representing coordinates of a bounding box around the sign in the image. **THESE COORDINATES ASSUME THE ORIGINAL IMAGE. THE PICKLED DATA CONTAINS RESIZED VERSIONS (32 by 32) OF THESE IMAGES**\n",
    "\n",
    "Complete the basic data summary below. Use python, numpy and/or pandas methods to calculate the data summary rather than hard coding the results. For example, the [pandas shape method](http://pandas.pydata.org/pandas-docs/stable/generated/pandas.DataFrame.shape.html) might be useful for calculating some of the summary results. "
   ]
  },
  {
   "cell_type": "markdown",
   "metadata": {},
   "source": [
    "### Provide a Basic Summary of the Data Set Using Python, Numpy and/or Pandas"
   ]
  },
  {
   "cell_type": "code",
   "execution_count": 2,
   "metadata": {
    "collapsed": true
   },
   "outputs": [],
   "source": [
    "import numpy as np\n",
    "import pandas as pd\n",
    "import tensorflow as tf\n",
    "import matplotlib.pyplot as plt\n",
    "%matplotlib inline\n",
    "import cv2\n",
    "from sklearn.utils import shuffle"
   ]
  },
  {
   "cell_type": "code",
   "execution_count": 3,
   "metadata": {},
   "outputs": [
    {
     "name": "stdout",
     "output_type": "stream",
     "text": [
      "Number of training examples = 34799\n",
      "Number of testing examples = 4410\n",
      "Image data shape = (32, 32, 3)\n",
      "Number of classes = 43\n"
     ]
    }
   ],
   "source": [
    "### Replace each question mark with the appropriate value. \n",
    "### Use python, pandas or numpy methods rather than hard coding the results\n",
    "\n",
    "# TODO: Number of training examples\n",
    "n_train = X_train.shape[0]\n",
    "\n",
    "# TODO: Number of validation examples\n",
    "n_validation = X_valid.shape[0]\n",
    "\n",
    "# TODO: Number of testing examples.\n",
    "n_test = X_test.shape[0]\n",
    "\n",
    "# TODO: What's the shape of an traffic sign image?\n",
    "image_shape = X_train.shape[1:4]\n",
    "\n",
    "# TODO: How many unique classes/labels there are in the dataset.\n",
    "classes = np.unique(np.hstack([y_train, y_valid]))\n",
    "n_classes = len(classes)\n",
    "\n",
    "print(\"Number of training examples =\", n_train)\n",
    "print(\"Number of testing examples =\", n_test)\n",
    "print(\"Image data shape =\", image_shape)\n",
    "print(\"Number of classes =\", n_classes)"
   ]
  },
  {
   "cell_type": "markdown",
   "metadata": {},
   "source": [
    "### Include an exploratory visualization of the dataset"
   ]
  },
  {
   "cell_type": "markdown",
   "metadata": {},
   "source": [
    "Visualize the German Traffic Signs Dataset using the pickled file(s). This is open ended, suggestions include: plotting traffic sign images, plotting the count of each sign, etc. \n",
    "\n",
    "The [Matplotlib](http://matplotlib.org/) [examples](http://matplotlib.org/examples/index.html) and [gallery](http://matplotlib.org/gallery.html) pages are a great resource for doing visualizations in Python.\n",
    "\n",
    "**NOTE:** It's recommended you start with something simple first. If you wish to do more, come back to it after you've completed the rest of the sections. It can be interesting to look at the distribution of classes in the training, validation and test set. Is the distribution the same? Are there more examples of some classes than others?"
   ]
  },
  {
   "cell_type": "code",
   "execution_count": null,
   "metadata": {
    "scrolled": false
   },
   "outputs": [],
   "source": [
    "# plot the first image in training data for each class\n",
    "fig = plt.figure(figsize=(16,44));\n",
    "for i in list(range(n_classes)):\n",
    "    plt.subplot(11,4,i+1);\n",
    "    plt.imshow(np.squeeze(X_train[np.where(y_train == i)[0][0],:,:,:]));\n",
    "    plt.title('Class ' + str(i),fontsize = 12);\n",
    "\n",
    "# plot the histogram of all classes in training data\n",
    "fig = plt.figure(figsize = (10,7));\n",
    "plt.hist(y_train,bins=43);\n",
    "plt.xlabel('Classes',fontsize = 14);\n",
    "plt.ylabel('Number', fontsize = 14);\n",
    "plt.title('Histogram of classes', fontsize = 16);"
   ]
  },
  {
   "cell_type": "markdown",
   "metadata": {},
   "source": [
    "----\n",
    "\n",
    "## Step 2: Design and Test a Model Architecture\n",
    "\n",
    "Design and implement a deep learning model that learns to recognize traffic signs. Train and test your model on the [German Traffic Sign Dataset](http://benchmark.ini.rub.de/?section=gtsrb&subsection=dataset).\n",
    "\n",
    "The LeNet-5 implementation shown in the [classroom](https://classroom.udacity.com/nanodegrees/nd013/parts/fbf77062-5703-404e-b60c-95b78b2f3f9e/modules/6df7ae49-c61c-4bb2-a23e-6527e69209ec/lessons/601ae704-1035-4287-8b11-e2c2716217ad/concepts/d4aca031-508f-4e0b-b493-e7b706120f81) at the end of the CNN lesson is a solid starting point. You'll have to change the number of classes and possibly the preprocessing, but aside from that it's plug and play! \n",
    "\n",
    "With the LeNet-5 solution from the lecture, you should expect a validation set accuracy of about 0.89. To meet specifications, the validation set accuracy will need to be at least 0.93. It is possible to get an even higher accuracy, but 0.93 is the minimum for a successful project submission. \n",
    "\n",
    "There are various aspects to consider when thinking about this problem:\n",
    "\n",
    "- Neural network architecture (is the network over or underfitting?)\n",
    "- Play around preprocessing techniques (normalization, rgb to grayscale, etc)\n",
    "- Number of examples per label (some have more than others).\n",
    "- Generate fake data.\n",
    "\n",
    "Here is an example of a [published baseline model on this problem](http://yann.lecun.com/exdb/publis/pdf/sermanet-ijcnn-11.pdf). It's not required to be familiar with the approach used in the paper but, it's good practice to try to read papers like these."
   ]
  },
  {
   "cell_type": "markdown",
   "metadata": {},
   "source": [
    "### Pre-process the Data Set (normalization, grayscale, etc.)"
   ]
  },
  {
   "cell_type": "markdown",
   "metadata": {},
   "source": [
    "A series of preprocessing images has been applied to the original dataset. Functions for preprocessing are defined as follows."
   ]
  },
  {
   "cell_type": "code",
   "execution_count": 4,
   "metadata": {
    "collapsed": true
   },
   "outputs": [],
   "source": [
    "# normalizing an image data set\n",
    "def NormImg(raw_img):\n",
    "    '''\n",
    "    raw_img: an input 4D array of raw images (nimg, nrow, rcol, rdepth)\n",
    "    '''\n",
    "#     norm_img = np.ndarray(shape = raw_img.shape, dtype = np.float32)\n",
    "    norm_img = (raw_img-128.0)/128.0\n",
    "    return norm_img\n",
    "\n",
    "# convert RGB images to gray scale\n",
    "def RGB2GRY(raw_img):\n",
    "    gry_img = cv2.cvtColor(raw_img,cv2.COLOR_RGB2GRAY)\n",
    "    return gry_img\n",
    "\n",
    "# Histogram equalization on grayscale images\n",
    "def HistEq(raw_img, type = 'GRAY'):\n",
    "    if type == 'GRAY':\n",
    "        eq_img = cv2.equalizeHist(raw_img)\n",
    "    elif type =='RGB':\n",
    "        # from IPython.core.debugger import Tracer; Tracer()()\n",
    "        yuv_img = cv2.cvtColor(raw_img, cv2.COLOR_RGB2YUV)\n",
    "        # equalize the histogram of the Y channel\n",
    "        yuv_img[:,:,0] = cv2.equalizeHist(yuv_img[:,:,0])\n",
    "        # convert the YUV image back to RGB format\n",
    "        eq_img = cv2.cvtColor(yuv_img, cv2.COLOR_YUV2RGB)\n",
    "    return eq_img"
   ]
  },
  {
   "cell_type": "markdown",
   "metadata": {},
   "source": [
    "The image data are approximately normalizd by equation `(pixel - 128)/ 128`. The first image of each class in the normalized training data are shown below. Histograms of these images demonstrated that images have been correctly normalized."
   ]
  },
  {
   "cell_type": "code",
   "execution_count": 5,
   "metadata": {
    "collapsed": true
   },
   "outputs": [],
   "source": [
    "# # convert images to grayscale, then histogram equalize and normalize images\n",
    "# n_X_train = np.ndarray(shape = X_train.shape, dtype = np.float32)\n",
    "# for i in list(range(X_train.shape[0])):\n",
    "#     n_X_train[i,:,:,0] = NormImg(HistEq(RGB2GRY(X_train[i,:,:,:]),type='GRAY'))\n",
    "\n",
    "# n_X_valid = np.ndarray(shape = X_valid.shape, dtype = np.float32)\n",
    "# for i in list(range(X_valid.shape[0])):\n",
    "#     n_X_valid[i,:,:,0] = NormImg(HistEq(RGB2GRY(X_valid[i,:,:,:]),type='GRAY'))\n",
    "\n",
    "# n_X_test = np.ndarray(shape = X_test.shape, dtype = np.float32)\n",
    "# for i in list(range(X_test.shape[0])):\n",
    "#     n_X_test[i,:,:,0] = NormImg(HistEq(RGB2GRY(X_test[i,:,:,:]),type='GRAY'))\n",
    "\n",
    "# # convert images to grayscale, then apply simple normalization to images\n",
    "# n_X_train = np.ndarray(shape = X_train.shape, dtype = np.float32)\n",
    "# for i in list(range(X_train.shape[0])):\n",
    "#     n_X_train[i,:,:,0] = NormImg(RGB2GRY(X_train[i,:,:,:]))\n",
    "\n",
    "# n_X_valid = np.ndarray(shape = X_valid.shape, dtype = np.float32)\n",
    "# for i in list(range(X_valid.shape[0])):\n",
    "#     n_X_valid[i,:,:,0] = NormImg(RGB2GRY(X_valid[i,:,:,:]))\n",
    "\n",
    "# n_X_test = np.ndarray(shape = X_test.shape, dtype = np.float32)\n",
    "# for i in list(range(X_test.shape[0])):\n",
    "#     n_X_test[i,:,:,0] = NormImg(RGB2GRY(X_test[i,:,:,:]))\n",
    "    \n",
    "# Use original RGB images, histogram equalize and normalize them\n",
    "n_X_train = np.ndarray(shape = X_train.shape, dtype = np.float32)\n",
    "for i in list(range(X_train.shape[0])):\n",
    "    n_X_train[i,:,:,:] = NormImg(HistEq(X_train[i,:,:,:],type='RGB'))\n",
    "\n",
    "n_X_valid = np.ndarray(shape = X_valid.shape, dtype = np.float32)\n",
    "for i in list(range(X_valid.shape[0])):\n",
    "    n_X_valid[i,:,:,:] = NormImg(HistEq(X_valid[i,:,:,:],type='RGB'))\n",
    "\n",
    "n_X_test = np.ndarray(shape = X_test.shape, dtype = np.float32)\n",
    "for i in list(range(X_test.shape[0])):\n",
    "    n_X_test[i,:,:,:] = NormImg(HistEq(X_test[i,:,:,:],type='RGB'))\n",
    "\n",
    "    \n",
    "# # Use original RGB images, normalize them\n",
    "# n_X_train = np.ndarray(shape = X_train.shape, dtype = np.float32)\n",
    "# for i in list(range(X_train.shape[0])):\n",
    "#     n_X_train[i,:,:,:] = NormImg(X_train[i,:,:,:])\n",
    "\n",
    "# n_X_valid = np.ndarray(shape = X_valid.shape, dtype = np.float32)\n",
    "# for i in list(range(X_valid.shape[0])):\n",
    "#     n_X_valid[i,:,:,:] = NormImg(X_valid[i,:,:,:])\n",
    "\n",
    "# n_X_test = np.ndarray(shape = X_test.shape, dtype = np.float32)\n",
    "# for i in list(range(X_test.shape[0])):\n",
    "#     n_X_test[i,:,:,:] = NormImg(X_test[i,:,:,:])\n"
   ]
  },
  {
   "cell_type": "code",
   "execution_count": null,
   "metadata": {
    "collapsed": true,
    "scrolled": false
   },
   "outputs": [],
   "source": [
    "# plot the 1st image of the NORMALIZED training data for each class\n",
    "fig = plt.figure(figsize=(16,44))\n",
    "for i in list(range(n_classes)):\n",
    "    plt.subplot(11,4,i+1)\n",
    "    plt.imshow(np.squeeze(n_X_train[np.where(y_train == i)[0][0],:,:,:]))\n",
    "    plt.title('Class ' + str(i),fontsize = 12)\n",
    "    plt.colorbar()"
   ]
  },
  {
   "cell_type": "code",
   "execution_count": null,
   "metadata": {
    "collapsed": true,
    "scrolled": false
   },
   "outputs": [],
   "source": [
    "# plot the histogram of the NORMALIZED training data for the first image of each class\n",
    "fig = plt.figure(figsize=(16,44))\n",
    "for i in list(range(n_classes)):\n",
    "    plt.subplot(11,4,i+1)\n",
    "    plt.hist(n_X_train[np.where(y_train == i)[0][0],:,:,:].flatten(),bins=50)\n",
    "    plt.title('Class ' + str(i),fontsize = 12)"
   ]
  },
  {
   "cell_type": "markdown",
   "metadata": {},
   "source": [
    "### Model Architecture"
   ]
  },
  {
   "cell_type": "markdown",
   "metadata": {},
   "source": [
    "The implementation of LeNet at [here](https://github.com/udacity/CarND-LeNet-Lab/blob/master/LeNet-Lab-Solution.ipynb) is used for our classifier. This `LeNet(x)` accepts 32x32xC image."
   ]
  },
  {
   "cell_type": "code",
   "execution_count": null,
   "metadata": {
    "collapsed": true
   },
   "outputs": [],
   "source": [
    "# # original LeNet\n",
    "# # best validation error 92%\n",
    "# from tensorflow.contrib.layers import flatten\n",
    "\n",
    "# def LeNet(x,n_classes):    \n",
    "#     # Arguments used for tf.truncated_normal, randomly defines variables for the weights and biases for each layer\n",
    "#     mu = 0\n",
    "#     sigma = 1\n",
    "    \n",
    "#     img_depth = x.get_shape().as_list()[3]\n",
    "# #     from IPython.core.debugger import Tracer; Tracer()()\n",
    "#     # SOLUTION: Layer 1: Convolutional. Input = 32x32x1. Output = 28x28x6.\n",
    "# #     conv1_W = tf.Variable(tf.truncated_normal(shape=(5, 5, img_depth, 6), mean = mu, stddev = sigma))\n",
    "#     conv1_W = tf.Variable(2.0**0.5*tf.truncated_normal(shape=(5, 5, img_depth, 6))/np.sqrt(5.0*5.0*np.float32(img_depth)*6.0))\n",
    "#     conv1_b = tf.Variable(tf.zeros(6))\n",
    "#     conv1   = tf.nn.conv2d(x, conv1_W, strides=[1, 1, 1, 1], padding='VALID') + conv1_b\n",
    "\n",
    "#     # SOLUTION: Activation.\n",
    "#     conv1 = tf.nn.relu(conv1)\n",
    "\n",
    "#     # SOLUTION: Pooling. Input = 28x28x6. Output = 14x14x6.\n",
    "#     conv1 = tf.nn.max_pool(conv1, ksize=[1, 2, 2, 1], strides=[1, 2, 2, 1], padding='VALID')\n",
    "\n",
    "#     # SOLUTION: Layer 2: Convolutional. Output = 10x10x16.\n",
    "# #     conv2_W = tf.Variable(tf.truncated_normal(shape=(5, 5, 6, 16), mean = mu, stddev = sigma))\n",
    "#     conv2_W = tf.Variable(2.0**0.5*tf.truncated_normal(shape=(5, 5, 6, 16))/np.sqrt(5.0*5.0*6.0*16.0))\n",
    "#     conv2_b = tf.Variable(tf.zeros(16))\n",
    "#     conv2   = tf.nn.conv2d(conv1, conv2_W, strides=[1, 1, 1, 1], padding='VALID') + conv2_b\n",
    "    \n",
    "#     # SOLUTION: Activation.\n",
    "#     conv2 = tf.nn.relu(conv2)\n",
    "\n",
    "#     # SOLUTION: Pooling. Input = 10x10x16. Output = 5x5x16.\n",
    "#     conv2 = tf.nn.max_pool(conv2, ksize=[1, 2, 2, 1], strides=[1, 2, 2, 1], padding='VALID')\n",
    "\n",
    "#     # SOLUTION: Flatten. Input = 5x5x16. Output = 400.\n",
    "#     fc0   = flatten(conv2)\n",
    "    \n",
    "#     # SOLUTION: Layer 3: Fully Connected. Input = 400. Output = 120.\n",
    "# #     fc1_W = tf.Variable(tf.truncated_normal(shape=(400, 120), mean = mu, stddev = sigma))\n",
    "#     fc1_W = tf.Variable(2.0**0.5*tf.truncated_normal(shape=(400, 120))/np.sqrt(400.0*120.8))\n",
    "#     fc1_b = tf.Variable(tf.zeros(120))\n",
    "#     fc1   = tf.matmul(fc0, fc1_W) + fc1_b\n",
    "    \n",
    "#     # SOLUTION: Activation.\n",
    "#     fc1    = tf.nn.relu(fc1)\n",
    "\n",
    "#     # SOLUTION: Layer 4: Fully Connected. Input = 120. Output = 84.\n",
    "# #     fc2_W  = tf.Variable(tf.truncated_normal(shape=(120, 84), mean = mu, stddev = sigma))\n",
    "#     fc2_W  = tf.Variable(2.0**0.5*tf.truncated_normal(shape=(120, 84))/np.sqrt(120.0*84.0))\n",
    "#     fc2_b  = tf.Variable(tf.zeros(84))\n",
    "#     fc2    = tf.matmul(fc1, fc2_W) + fc2_b\n",
    "    \n",
    "#     # SOLUTION: Activation.\n",
    "#     fc2    = tf.nn.relu(fc2)\n",
    "\n",
    "#     # SOLUTION: Layer 5: Fully Connected. Input = 84. Output = 10.\n",
    "# #     fc3_W  = tf.Variable(tf.truncated_normal(shape=(84, n_classes), mean = mu, stddev = sigma))\n",
    "#     fc3_W  = tf.Variable(2.0**0.5*tf.truncated_normal(shape=(84, n_classes))/np.sqrt(84.0*n_classes))\n",
    "#     fc3_b  = tf.Variable(tf.zeros(n_classes))\n",
    "#     logits = tf.matmul(fc2, fc3_W) + fc3_b\n",
    "    \n",
    "#     return logits"
   ]
  },
  {
   "cell_type": "code",
   "execution_count": 6,
   "metadata": {
    "collapsed": true
   },
   "outputs": [],
   "source": [
    "# Improved LeNet with dropout for all layers\n",
    "# Best accuracy was 92.8%\n",
    "from tensorflow.contrib.layers import flatten\n",
    "\n",
    "def LeNet(x,n_classes, keep_prob):    \n",
    "    # Arguments used for tf.truncated_normal, randomly defines variables for the weights and biases for each layer\n",
    "    mu = 0\n",
    "    sigma = 1\n",
    "    \n",
    "    img_depth = x.get_shape().as_list()[3]\n",
    "#     from IPython.core.debugger import Tracer; Tracer()()\n",
    "    # Layer 1: Convolutional. Input = 32x32x1. Output = 28x28x6.\n",
    "    conv1_W = tf.Variable(2.0**0.5*tf.truncated_normal(shape=(5, 5, img_depth, 6))/np.sqrt(5.0*5.0*np.float32(img_depth)*6.0))\n",
    "    conv1_b = tf.Variable(tf.zeros(6))\n",
    "    conv1   = tf.nn.conv2d(x, conv1_W, strides=[1, 1, 1, 1], padding='VALID') + conv1_b\n",
    "\n",
    "    # Activation.\n",
    "    conv1 = tf.nn.relu(conv1)\n",
    "\n",
    "    # Pooling. Input = 28x28x6. Output = 14x14x6.\n",
    "    conv1 = tf.nn.max_pool(conv1, ksize=[1, 2, 2, 1], strides=[1, 2, 2, 1], padding='VALID')\n",
    "    conv1 = tf.layers.dropout(conv1,keep_prob)\n",
    "\n",
    "    # Layer 2: Convolutional. Output = 10x10x16.\n",
    "    conv2_W = tf.Variable(2.0**0.5*tf.truncated_normal(shape=(5, 5, 6, 16))/np.sqrt(5.0*5.0*6.0*16.0))\n",
    "    conv2_b = tf.Variable(tf.zeros(16))\n",
    "    conv2   = tf.nn.conv2d(conv1, conv2_W, strides=[1, 1, 1, 1], padding='VALID') + conv2_b\n",
    "    \n",
    "    # Activation.\n",
    "    conv2 = tf.nn.relu(conv2)\n",
    "\n",
    "    # Pooling. Input = 10x10x16. Output = 5x5x16.\n",
    "    conv2 = tf.nn.max_pool(conv2, ksize=[1, 2, 2, 1], strides=[1, 2, 2, 1], padding='VALID')\n",
    "    conv2 = tf.layers.dropout(conv2,keep_prob)\n",
    "\n",
    "    # Flatten. Input = 5x5x16. Output = 400.\n",
    "    fc0   = flatten(conv2)\n",
    "    \n",
    "    # Layer 3: Fully Connected. Input = 400. Output = 120.\n",
    "    fc1_W = tf.Variable(2.0**0.5*tf.truncated_normal(shape=(400, 120))/np.sqrt(400.0*120.8))\n",
    "    fc1_b = tf.Variable(tf.zeros(120))\n",
    "    fc1   = tf.matmul(fc0, fc1_W) + fc1_b\n",
    "    \n",
    "    # Activation.\n",
    "    fc1    = tf.nn.relu(fc1)\n",
    "    fc1 = tf.layers.dropout(fc1,keep_prob)\n",
    "\n",
    "    # Layer 4: Fully Connected. Input = 120. Output = 84.\n",
    "    fc2_W  = tf.Variable(2.0**0.5*tf.truncated_normal(shape=(120, 84))/np.sqrt(120.0*84.0))\n",
    "    fc2_b  = tf.Variable(tf.zeros(84))\n",
    "    fc2    = tf.matmul(fc1, fc2_W) + fc2_b\n",
    "    \n",
    "    # Activation.\n",
    "    fc2    = tf.nn.relu(fc2)\n",
    "    fc2 = tf.layers.dropout(fc2,keep_prob)\n",
    "\n",
    "    # SOLUTION: Layer 5: Fully Connected. Input = 84. Output = 10.\n",
    "    fc3_W  = tf.Variable(2.0**0.5*tf.truncated_normal(shape=(84, n_classes))/np.sqrt(84.0*n_classes))\n",
    "    fc3_b  = tf.Variable(tf.zeros(n_classes))\n",
    "    logits = tf.matmul(fc2, fc3_W) + fc3_b\n",
    "    \n",
    "    return logits"
   ]
  },
  {
   "cell_type": "code",
   "execution_count": 7,
   "metadata": {
    "collapsed": true
   },
   "outputs": [],
   "source": [
    "# # LeNet with dropout for every layer, and both Convolutional layers were input to the fully connected layer\n",
    "# # obtianed 93.5% validation error\n",
    "# from tensorflow.contrib.layers import flatten\n",
    "\n",
    "# def LeNet(x,n_classes, keep_prob):    \n",
    "#     # Arguments used for tf.truncated_normal, randomly defines variables for the weights and biases for each layer\n",
    "#     mu = 0\n",
    "#     sigma = 1\n",
    "    \n",
    "#     img_depth = x.get_shape().as_list()[3]\n",
    "# #     from IPython.core.debugger import Tracer; Tracer()()\n",
    "#     # Layer 1: Convolutional. Input = 32x32x1. Output = 28x28x6.\n",
    "#     conv1_W = tf.Variable(2.0**0.5*tf.truncated_normal(shape=(5, 5, img_depth, 6))/np.sqrt(5.0*5.0*np.float32(img_depth)*6.0))\n",
    "#     conv1_b = tf.Variable(tf.zeros(6))\n",
    "#     conv1   = tf.nn.conv2d(x, conv1_W, strides=[1, 1, 1, 1], padding='VALID') + conv1_b\n",
    "\n",
    "#     # Activation.\n",
    "#     conv1 = tf.nn.relu(conv1)\n",
    "\n",
    "#     # Pooling. Input = 28x28x6. Output = 14x14x6.\n",
    "#     conv1 = tf.nn.max_pool(conv1, ksize=[1, 2, 2, 1], strides=[1, 2, 2, 1], padding='VALID')\n",
    "#     conv1 = tf.layers.dropout(conv1,keep_prob)\n",
    "\n",
    "#     # Layer 2: Convolutional. Output = 10x10x16.\n",
    "#     conv2_W = tf.Variable(2.0**0.5*tf.truncated_normal(shape=(5, 5, 6, 16))/np.sqrt(5.0*5.0*6.0*16.0))\n",
    "#     conv2_b = tf.Variable(tf.zeros(16))\n",
    "#     conv2   = tf.nn.conv2d(conv1, conv2_W, strides=[1, 1, 1, 1], padding='VALID') + conv2_b\n",
    "    \n",
    "#     # Activation.\n",
    "#     conv2 = tf.nn.relu(conv2)\n",
    "\n",
    "#     # Pooling. Input = 10x10x16. Output = 5x5x16.\n",
    "#     conv2 = tf.nn.max_pool(conv2, ksize=[1, 2, 2, 1], strides=[1, 2, 2, 1], padding='VALID')\n",
    "#     conv2 = tf.layers.dropout(conv2,keep_prob)\n",
    "\n",
    "#     # Flatten. Input = 5x5x16 + 14x14x6. Output = 1576.\n",
    "#     fc0   = tf.concat([flatten(conv1), flatten(conv2)],axis=1)\n",
    "    \n",
    "#     # Layer 3: Fully Connected. Input = 400. Output = 120.\n",
    "#     fc1_W = tf.Variable(2.0**0.5*tf.truncated_normal(shape=(1576, 800))/np.sqrt(1576.0*800.0))\n",
    "#     fc1_b = tf.Variable(tf.zeros(800))\n",
    "#     fc1   = tf.matmul(fc0, fc1_W) + fc1_b\n",
    "    \n",
    "#     # Activation.\n",
    "#     fc1    = tf.nn.relu(fc1)\n",
    "#     fc1 = tf.layers.dropout(fc1,keep_prob)\n",
    "\n",
    "#     # Layer 4: Fully Connected. Input = 120. Output = 84.\n",
    "#     fc2_W  = tf.Variable(2.0**0.5*tf.truncated_normal(shape=(800, 400))/np.sqrt(800.0*400.0))\n",
    "#     fc2_b  = tf.Variable(tf.zeros(400))\n",
    "#     fc2    = tf.matmul(fc1, fc2_W) + fc2_b\n",
    "    \n",
    "#     # Activation.\n",
    "#     fc2    = tf.nn.relu(fc2)\n",
    "#     fc2 = tf.layers.dropout(fc2,keep_prob)\n",
    "\n",
    "#     # SOLUTION: Layer 5: Fully Connected. Input = 84. Output = 10.\n",
    "#     fc3_W  = tf.Variable(2.0**0.5*tf.truncated_normal(shape=(400, n_classes))/np.sqrt(400.0*n_classes))\n",
    "#     fc3_b  = tf.Variable(tf.zeros(n_classes))\n",
    "#     logits = tf.matmul(fc2, fc3_W) + fc3_b\n",
    "    \n",
    "#     return logits"
   ]
  },
  {
   "cell_type": "markdown",
   "metadata": {},
   "source": [
    "### Train, Validate and Test the Model"
   ]
  },
  {
   "cell_type": "markdown",
   "metadata": {},
   "source": [
    "A validation set can be used to assess how well the model is performing. A low accuracy on the training and validation\n",
    "sets imply underfitting. A high accuracy on the training set but low accuracy on the validation set implies overfitting."
   ]
  },
  {
   "cell_type": "code",
   "execution_count": 8,
   "metadata": {
    "collapsed": true
   },
   "outputs": [],
   "source": [
    "# input nodes for our neural network\n",
    "x = tf.placeholder(tf.float32,(None,32,32,n_X_train.shape[3]))\n",
    "y = tf.placeholder(tf.int32, (None))\n",
    "ohe_y = tf.one_hot(y,n_classes)"
   ]
  },
  {
   "cell_type": "markdown",
   "metadata": {},
   "source": [
    "#### Training Pipeline"
   ]
  },
  {
   "cell_type": "code",
   "execution_count": 9,
   "metadata": {},
   "outputs": [],
   "source": [
    "lrate = 5e-4\n",
    "keep_prob = 0.5\n",
    "EPOCHS = 100\n",
    "BATCH_SIZE = 64\n",
    "\n",
    "logits = LeNet(x,n_classes,keep_prob)\n",
    "# logits = LeNet(x,n_classes)\n",
    "cross_entropy = tf.nn.softmax_cross_entropy_with_logits(labels=ohe_y, logits=logits)\n",
    "loss_operation = tf.reduce_mean(cross_entropy)\n",
    "optimizer = tf.train.AdamOptimizer(learning_rate = lrate)\n",
    "training_operation = optimizer.minimize(loss_operation)"
   ]
  },
  {
   "cell_type": "markdown",
   "metadata": {},
   "source": [
    "#### Model Evaluation"
   ]
  },
  {
   "cell_type": "code",
   "execution_count": 10,
   "metadata": {
    "collapsed": true
   },
   "outputs": [],
   "source": [
    "correct_prediction = tf.equal(tf.argmax(logits, 1), tf.argmax(ohe_y, 1))\n",
    "accuracy_operation = tf.reduce_mean(tf.cast(correct_prediction, tf.float32))\n",
    "saver = tf.train.Saver()\n",
    "\n",
    "def evaluate(X_data, y_data):\n",
    "    num_examples = len(X_data)\n",
    "    total_accuracy = 0\n",
    "    sess = tf.get_default_session()\n",
    "    for offset in range(0, num_examples, BATCH_SIZE):\n",
    "        batch_x, batch_y = X_data[offset:offset+BATCH_SIZE], y_data[offset:offset+BATCH_SIZE]\n",
    "        accuracy = sess.run(accuracy_operation, feed_dict={x: batch_x, y: batch_y})\n",
    "        total_accuracy += (accuracy * len(batch_x))\n",
    "    return total_accuracy / num_examples"
   ]
  },
  {
   "cell_type": "markdown",
   "metadata": {},
   "source": [
    "#### Train the Model"
   ]
  },
  {
   "cell_type": "code",
   "execution_count": 11,
   "metadata": {
    "scrolled": false
   },
   "outputs": [
    {
     "name": "stdout",
     "output_type": "stream",
     "text": [
      "Training...\n",
      "\n",
      "EPOCH 1 ...\n",
      "Training Accuracy = 0.355, Validation Accuracy = 0.338, Test Accuracy = 0.350\n",
      "\n",
      "EPOCH 2 ...\n",
      "Training Accuracy = 0.629, Validation Accuracy = 0.588, Test Accuracy = 0.590\n",
      "\n",
      "EPOCH 3 ...\n",
      "Training Accuracy = 0.800, Validation Accuracy = 0.729, Test Accuracy = 0.758\n",
      "\n",
      "EPOCH 4 ...\n",
      "Training Accuracy = 0.862, Validation Accuracy = 0.787, Test Accuracy = 0.805\n",
      "\n",
      "EPOCH 5 ...\n",
      "Training Accuracy = 0.896, Validation Accuracy = 0.813, Test Accuracy = 0.823\n",
      "\n",
      "EPOCH 6 ...\n",
      "Training Accuracy = 0.924, Validation Accuracy = 0.844, Test Accuracy = 0.859\n",
      "\n",
      "EPOCH 7 ...\n",
      "Training Accuracy = 0.939, Validation Accuracy = 0.845, Test Accuracy = 0.864\n",
      "\n",
      "EPOCH 8 ...\n",
      "Training Accuracy = 0.955, Validation Accuracy = 0.853, Test Accuracy = 0.874\n",
      "\n",
      "EPOCH 9 ...\n",
      "Training Accuracy = 0.948, Validation Accuracy = 0.851, Test Accuracy = 0.872\n",
      "\n",
      "EPOCH 10 ...\n",
      "Training Accuracy = 0.965, Validation Accuracy = 0.874, Test Accuracy = 0.888\n",
      "\n",
      "EPOCH 11 ...\n",
      "Training Accuracy = 0.975, Validation Accuracy = 0.888, Test Accuracy = 0.909\n",
      "\n",
      "EPOCH 12 ...\n",
      "Training Accuracy = 0.977, Validation Accuracy = 0.883, Test Accuracy = 0.904\n",
      "\n",
      "EPOCH 13 ...\n",
      "Training Accuracy = 0.981, Validation Accuracy = 0.889, Test Accuracy = 0.909\n",
      "\n",
      "EPOCH 14 ...\n",
      "Training Accuracy = 0.986, Validation Accuracy = 0.895, Test Accuracy = 0.911\n",
      "\n",
      "EPOCH 15 ...\n",
      "Training Accuracy = 0.986, Validation Accuracy = 0.895, Test Accuracy = 0.914\n",
      "\n",
      "EPOCH 16 ...\n",
      "Training Accuracy = 0.984, Validation Accuracy = 0.888, Test Accuracy = 0.908\n",
      "\n",
      "EPOCH 17 ...\n",
      "Training Accuracy = 0.987, Validation Accuracy = 0.894, Test Accuracy = 0.910\n",
      "\n",
      "EPOCH 18 ...\n",
      "Training Accuracy = 0.993, Validation Accuracy = 0.900, Test Accuracy = 0.921\n",
      "\n",
      "EPOCH 19 ...\n",
      "Training Accuracy = 0.989, Validation Accuracy = 0.900, Test Accuracy = 0.914\n",
      "\n",
      "EPOCH 20 ...\n",
      "Training Accuracy = 0.991, Validation Accuracy = 0.900, Test Accuracy = 0.919\n",
      "\n",
      "EPOCH 21 ...\n",
      "Training Accuracy = 0.992, Validation Accuracy = 0.899, Test Accuracy = 0.918\n",
      "\n",
      "EPOCH 22 ...\n",
      "Training Accuracy = 0.994, Validation Accuracy = 0.902, Test Accuracy = 0.917\n",
      "\n",
      "EPOCH 23 ...\n",
      "Training Accuracy = 0.990, Validation Accuracy = 0.898, Test Accuracy = 0.916\n",
      "\n",
      "EPOCH 24 ...\n",
      "Training Accuracy = 0.992, Validation Accuracy = 0.908, Test Accuracy = 0.926\n",
      "\n",
      "EPOCH 25 ...\n",
      "Training Accuracy = 0.998, Validation Accuracy = 0.913, Test Accuracy = 0.931\n",
      "\n",
      "EPOCH 26 ...\n",
      "Training Accuracy = 0.992, Validation Accuracy = 0.904, Test Accuracy = 0.922\n",
      "\n",
      "EPOCH 27 ...\n",
      "Training Accuracy = 0.999, Validation Accuracy = 0.912, Test Accuracy = 0.934\n",
      "\n",
      "EPOCH 28 ...\n",
      "Training Accuracy = 0.997, Validation Accuracy = 0.914, Test Accuracy = 0.936\n",
      "\n",
      "EPOCH 29 ...\n",
      "Training Accuracy = 0.997, Validation Accuracy = 0.911, Test Accuracy = 0.927\n",
      "\n",
      "EPOCH 30 ...\n",
      "Training Accuracy = 0.998, Validation Accuracy = 0.912, Test Accuracy = 0.926\n",
      "\n",
      "EPOCH 31 ...\n",
      "Training Accuracy = 0.996, Validation Accuracy = 0.905, Test Accuracy = 0.918\n",
      "\n",
      "EPOCH 32 ...\n",
      "Training Accuracy = 0.999, Validation Accuracy = 0.911, Test Accuracy = 0.926\n",
      "\n",
      "EPOCH 33 ...\n",
      "Training Accuracy = 0.999, Validation Accuracy = 0.910, Test Accuracy = 0.926\n",
      "\n",
      "EPOCH 34 ...\n",
      "Training Accuracy = 0.999, Validation Accuracy = 0.912, Test Accuracy = 0.929\n",
      "\n",
      "EPOCH 35 ...\n",
      "Training Accuracy = 0.993, Validation Accuracy = 0.900, Test Accuracy = 0.924\n",
      "\n",
      "EPOCH 36 ...\n",
      "Training Accuracy = 0.999, Validation Accuracy = 0.912, Test Accuracy = 0.926\n",
      "\n",
      "EPOCH 37 ...\n",
      "Training Accuracy = 0.994, Validation Accuracy = 0.896, Test Accuracy = 0.911\n",
      "\n",
      "EPOCH 38 ...\n",
      "Training Accuracy = 0.998, Validation Accuracy = 0.919, Test Accuracy = 0.937\n",
      "\n",
      "EPOCH 39 ...\n",
      "Training Accuracy = 0.997, Validation Accuracy = 0.912, Test Accuracy = 0.927\n",
      "\n",
      "EPOCH 40 ...\n",
      "Training Accuracy = 0.996, Validation Accuracy = 0.912, Test Accuracy = 0.925\n",
      "\n",
      "EPOCH 41 ...\n",
      "Training Accuracy = 1.000, Validation Accuracy = 0.914, Test Accuracy = 0.929\n",
      "\n",
      "EPOCH 42 ...\n",
      "Training Accuracy = 1.000, Validation Accuracy = 0.920, Test Accuracy = 0.933\n",
      "\n",
      "EPOCH 43 ...\n",
      "Training Accuracy = 0.998, Validation Accuracy = 0.917, Test Accuracy = 0.933\n",
      "\n",
      "EPOCH 44 ...\n",
      "Training Accuracy = 0.998, Validation Accuracy = 0.908, Test Accuracy = 0.919\n",
      "\n",
      "EPOCH 45 ...\n",
      "Training Accuracy = 0.997, Validation Accuracy = 0.914, Test Accuracy = 0.916\n",
      "\n",
      "EPOCH 46 ...\n",
      "Training Accuracy = 0.996, Validation Accuracy = 0.903, Test Accuracy = 0.905\n",
      "\n",
      "EPOCH 47 ...\n",
      "Training Accuracy = 0.996, Validation Accuracy = 0.907, Test Accuracy = 0.918\n",
      "\n",
      "EPOCH 48 ...\n",
      "Training Accuracy = 1.000, Validation Accuracy = 0.920, Test Accuracy = 0.937\n",
      "\n",
      "EPOCH 49 ...\n",
      "Training Accuracy = 0.998, Validation Accuracy = 0.910, Test Accuracy = 0.932\n",
      "\n",
      "EPOCH 50 ...\n",
      "Training Accuracy = 0.997, Validation Accuracy = 0.911, Test Accuracy = 0.927\n",
      "\n",
      "EPOCH 51 ...\n",
      "Training Accuracy = 0.997, Validation Accuracy = 0.908, Test Accuracy = 0.924\n",
      "\n",
      "EPOCH 52 ...\n",
      "Training Accuracy = 0.999, Validation Accuracy = 0.916, Test Accuracy = 0.934\n",
      "\n",
      "EPOCH 53 ...\n",
      "Training Accuracy = 1.000, Validation Accuracy = 0.914, Test Accuracy = 0.928\n",
      "\n",
      "EPOCH 54 ...\n",
      "Training Accuracy = 0.999, Validation Accuracy = 0.917, Test Accuracy = 0.931\n",
      "\n",
      "EPOCH 55 ...\n",
      "Training Accuracy = 0.996, Validation Accuracy = 0.912, Test Accuracy = 0.925\n",
      "\n",
      "EPOCH 56 ...\n",
      "Training Accuracy = 1.000, Validation Accuracy = 0.918, Test Accuracy = 0.933\n",
      "\n",
      "EPOCH 57 ...\n",
      "Training Accuracy = 0.998, Validation Accuracy = 0.913, Test Accuracy = 0.927\n",
      "\n",
      "EPOCH 58 ...\n",
      "Training Accuracy = 0.999, Validation Accuracy = 0.917, Test Accuracy = 0.926\n",
      "\n",
      "EPOCH 59 ...\n",
      "Training Accuracy = 1.000, Validation Accuracy = 0.923, Test Accuracy = 0.935\n",
      "\n",
      "EPOCH 60 ...\n",
      "Training Accuracy = 1.000, Validation Accuracy = 0.924, Test Accuracy = 0.935\n",
      "\n",
      "EPOCH 61 ...\n",
      "Training Accuracy = 1.000, Validation Accuracy = 0.923, Test Accuracy = 0.935\n",
      "\n",
      "EPOCH 62 ...\n",
      "Training Accuracy = 1.000, Validation Accuracy = 0.924, Test Accuracy = 0.937\n",
      "\n",
      "EPOCH 63 ...\n",
      "Training Accuracy = 1.000, Validation Accuracy = 0.924, Test Accuracy = 0.935\n",
      "\n",
      "EPOCH 64 ...\n",
      "Training Accuracy = 1.000, Validation Accuracy = 0.925, Test Accuracy = 0.935\n",
      "\n",
      "EPOCH 65 ...\n",
      "Training Accuracy = 1.000, Validation Accuracy = 0.925, Test Accuracy = 0.937\n",
      "\n",
      "EPOCH 66 ...\n",
      "Training Accuracy = 1.000, Validation Accuracy = 0.925, Test Accuracy = 0.937\n",
      "\n",
      "EPOCH 67 ...\n",
      "Training Accuracy = 1.000, Validation Accuracy = 0.925, Test Accuracy = 0.937\n",
      "\n",
      "EPOCH 68 ...\n",
      "Training Accuracy = 1.000, Validation Accuracy = 0.926, Test Accuracy = 0.937\n",
      "\n",
      "EPOCH 69 ...\n",
      "Training Accuracy = 1.000, Validation Accuracy = 0.925, Test Accuracy = 0.936\n",
      "\n",
      "EPOCH 70 ...\n",
      "Training Accuracy = 1.000, Validation Accuracy = 0.926, Test Accuracy = 0.937\n",
      "\n",
      "EPOCH 71 ...\n",
      "Training Accuracy = 1.000, Validation Accuracy = 0.925, Test Accuracy = 0.935\n",
      "\n",
      "EPOCH 72 ...\n",
      "Training Accuracy = 1.000, Validation Accuracy = 0.925, Test Accuracy = 0.934\n",
      "\n",
      "EPOCH 73 ...\n",
      "Training Accuracy = 1.000, Validation Accuracy = 0.926, Test Accuracy = 0.933\n",
      "\n",
      "EPOCH 74 ...\n",
      "Training Accuracy = 1.000, Validation Accuracy = 0.927, Test Accuracy = 0.934\n",
      "\n",
      "EPOCH 75 ...\n",
      "Training Accuracy = 0.993, Validation Accuracy = 0.904, Test Accuracy = 0.923\n",
      "\n",
      "EPOCH 76 ...\n",
      "Training Accuracy = 0.998, Validation Accuracy = 0.913, Test Accuracy = 0.927\n",
      "\n",
      "EPOCH 77 ...\n",
      "Training Accuracy = 1.000, Validation Accuracy = 0.922, Test Accuracy = 0.936\n",
      "\n",
      "EPOCH 78 ...\n",
      "Training Accuracy = 0.997, Validation Accuracy = 0.914, Test Accuracy = 0.920\n",
      "\n",
      "EPOCH 79 ...\n",
      "Training Accuracy = 1.000, Validation Accuracy = 0.917, Test Accuracy = 0.942\n",
      "\n",
      "EPOCH 80 ...\n",
      "Training Accuracy = 1.000, Validation Accuracy = 0.922, Test Accuracy = 0.935\n",
      "\n",
      "EPOCH 81 ...\n",
      "Training Accuracy = 1.000, Validation Accuracy = 0.925, Test Accuracy = 0.930\n",
      "\n",
      "EPOCH 82 ...\n",
      "Training Accuracy = 0.995, Validation Accuracy = 0.910, Test Accuracy = 0.921\n",
      "\n",
      "EPOCH 83 ...\n",
      "Training Accuracy = 0.999, Validation Accuracy = 0.922, Test Accuracy = 0.937\n",
      "\n",
      "EPOCH 84 ...\n",
      "Training Accuracy = 1.000, Validation Accuracy = 0.925, Test Accuracy = 0.937\n",
      "\n",
      "EPOCH 85 ...\n",
      "Training Accuracy = 0.999, Validation Accuracy = 0.922, Test Accuracy = 0.935\n",
      "\n",
      "EPOCH 86 ...\n",
      "Training Accuracy = 1.000, Validation Accuracy = 0.918, Test Accuracy = 0.936\n",
      "\n",
      "EPOCH 87 ...\n",
      "Training Accuracy = 0.998, Validation Accuracy = 0.918, Test Accuracy = 0.932\n",
      "\n",
      "EPOCH 88 ...\n",
      "Training Accuracy = 0.999, Validation Accuracy = 0.914, Test Accuracy = 0.930\n",
      "\n",
      "EPOCH 89 ...\n",
      "Training Accuracy = 1.000, Validation Accuracy = 0.923, Test Accuracy = 0.932\n",
      "\n",
      "EPOCH 90 ...\n",
      "Training Accuracy = 1.000, Validation Accuracy = 0.925, Test Accuracy = 0.938\n",
      "\n"
     ]
    },
    {
     "name": "stdout",
     "output_type": "stream",
     "text": [
      "EPOCH 91 ...\n",
      "Training Accuracy = 1.000, Validation Accuracy = 0.925, Test Accuracy = 0.938\n",
      "\n",
      "EPOCH 92 ...\n",
      "Training Accuracy = 1.000, Validation Accuracy = 0.928, Test Accuracy = 0.938\n",
      "\n",
      "EPOCH 93 ...\n",
      "Training Accuracy = 1.000, Validation Accuracy = 0.928, Test Accuracy = 0.939\n",
      "\n",
      "EPOCH 94 ...\n",
      "Training Accuracy = 1.000, Validation Accuracy = 0.928, Test Accuracy = 0.939\n",
      "\n",
      "EPOCH 95 ...\n",
      "Training Accuracy = 1.000, Validation Accuracy = 0.928, Test Accuracy = 0.938\n",
      "\n",
      "EPOCH 96 ...\n",
      "Training Accuracy = 1.000, Validation Accuracy = 0.928, Test Accuracy = 0.938\n",
      "\n",
      "EPOCH 97 ...\n",
      "Training Accuracy = 1.000, Validation Accuracy = 0.928, Test Accuracy = 0.938\n",
      "\n",
      "EPOCH 98 ...\n",
      "Training Accuracy = 1.000, Validation Accuracy = 0.928, Test Accuracy = 0.938\n",
      "\n",
      "EPOCH 99 ...\n",
      "Training Accuracy = 1.000, Validation Accuracy = 0.929, Test Accuracy = 0.939\n",
      "\n",
      "EPOCH 100 ...\n",
      "Training Accuracy = 1.000, Validation Accuracy = 0.929, Test Accuracy = 0.939\n",
      "\n"
     ]
    }
   ],
   "source": [
    "tr_acc = []\n",
    "v_acc = []\n",
    "te_acc = []\n",
    "\n",
    "with tf.Session() as sess:\n",
    "    sess.run(tf.global_variables_initializer())\n",
    "    num_examples = len(n_X_train)\n",
    "    \n",
    "    print(\"Training...\")\n",
    "    print()\n",
    "    for i in range(EPOCHS):\n",
    "        n_X_train, y_train = shuffle(n_X_train, y_train)\n",
    "        for offset in range(0, num_examples, BATCH_SIZE):\n",
    "            end = offset + BATCH_SIZE\n",
    "            batch_x, batch_y = n_X_train[offset:end], y_train[offset:end]\n",
    "            sess.run(training_operation, feed_dict={x: batch_x, y: batch_y})\n",
    "            \n",
    "        training_accuracy = evaluate(n_X_train,y_train)\n",
    "        validation_accuracy = evaluate(n_X_valid, y_valid)\n",
    "        test_accuracy = evaluate(n_X_test, y_test)\n",
    "        \n",
    "        tr_acc.append(training_accuracy)\n",
    "        v_acc.append(validation_accuracy)\n",
    "        te_acc.append(test_accuracy)\n",
    "        \n",
    "        print(\"EPOCH {} ...\".format(i+1))\n",
    "        print(\"Training Accuracy = {:.3f}, Validation Accuracy = {:.3f}, Test Accuracy = {:.3f}\"\n",
    "              .format(training_accuracy,validation_accuracy,test_accuracy))\n",
    "        print()\n",
    "        \n",
    "#     saver.save(sess, './lenet')\n",
    "#     print(\"Model saved\")"
   ]
  },
  {
   "cell_type": "code",
   "execution_count": 12,
   "metadata": {},
   "outputs": [
    {
     "data": {
      "image/png": "[encoded data removed]",
      "text/plain": [
       "<matplotlib.figure.Figure at 0x7fae64cfbcf8>"
      ]
     },
     "metadata": {},
     "output_type": "display_data"
    }
   ],
   "source": [
    "tr_acc_plt, = plt.plot(range(EPOCHS),tr_acc)        \n",
    "v_acc_plt, = plt.plot(range(EPOCHS),v_acc)\n",
    "te_acc_plt, = plt.plot(range(EPOCHS),te_acc)\n",
    "plt.xlabel('Epochs',fontsize = 18)\n",
    "plt.ylabel('Accuracy',fontsize = 18)\n",
    "plt.legend([tr_acc_plt,v_acc_plt,te_acc_plt],['Training accuracy','Validation accuracy','Test accuracy'])\n",
    "plt.show()"
   ]
  },
  {
   "cell_type": "markdown",
   "metadata": {},
   "source": [
    "---\n",
    "\n",
    "## Step 3: Test a Model on New Images\n",
    "\n",
    "To give yourself more insight into how your model is working, download at least five pictures of German traffic signs from the web and use your model to predict the traffic sign type.\n",
    "\n",
    "You may find `signnames.csv` useful as it contains mappings from the class id (integer) to the actual sign name."
   ]
  },
  {
   "cell_type": "markdown",
   "metadata": {},
   "source": [
    "### Load and Output the Images"
   ]
  },
  {
   "cell_type": "code",
   "execution_count": null,
   "metadata": {
    "collapsed": true
   },
   "outputs": [],
   "source": [
    "### Load the images and plot them here.\n",
    "### Feel free to use as many code cells as needed."
   ]
  },
  {
   "cell_type": "markdown",
   "metadata": {},
   "source": [
    "### Predict the Sign Type for Each Image"
   ]
  },
  {
   "cell_type": "code",
   "execution_count": null,
   "metadata": {
    "collapsed": true
   },
   "outputs": [],
   "source": [
    "### Run the predictions here and use the model to output the prediction for each image.\n",
    "### Make sure to pre-process the images with the same pre-processing pipeline used earlier.\n",
    "### Feel free to use as many code cells as needed."
   ]
  },
  {
   "cell_type": "markdown",
   "metadata": {},
   "source": [
    "### Analyze Performance"
   ]
  },
  {
   "cell_type": "code",
   "execution_count": null,
   "metadata": {
    "collapsed": true
   },
   "outputs": [],
   "source": [
    "### Calculate the accuracy for these 5 new images. \n",
    "### For example, if the model predicted 1 out of 5 signs correctly, it's 20% accurate on these new images."
   ]
  },
  {
   "cell_type": "markdown",
   "metadata": {},
   "source": [
    "### Output Top 5 Softmax Probabilities For Each Image Found on the Web"
   ]
  },
  {
   "cell_type": "markdown",
   "metadata": {},
   "source": [
    "For each of the new images, print out the model's softmax probabilities to show the **certainty** of the model's predictions (limit the output to the top 5 probabilities for each image). [`tf.nn.top_k`](https://www.tensorflow.org/versions/r0.12/api_docs/python/nn.html#top_k) could prove helpful here. \n",
    "\n",
    "The example below demonstrates how tf.nn.top_k can be used to find the top k predictions for each image.\n",
    "\n",
    "`tf.nn.top_k` will return the values and indices (class ids) of the top k predictions. So if k=3, for each sign, it'll return the 3 largest probabilities (out of a possible 43) and the correspoding class ids.\n",
    "\n",
    "Take this numpy array as an example. The values in the array represent predictions. The array contains softmax probabilities for five candidate images with six possible classes. `tk.nn.top_k` is used to choose the three classes with the highest probability:\n",
    "\n",
    "```\n",
    "# (5, 6) array\n",
    "a = np.array([[ 0.24879643,  0.07032244,  0.12641572,  0.34763842,  0.07893497,\n",
    "         0.12789202],\n",
    "       [ 0.28086119,  0.27569815,  0.08594638,  0.0178669 ,  0.18063401,\n",
    "         0.15899337],\n",
    "       [ 0.26076848,  0.23664738,  0.08020603,  0.07001922,  0.1134371 ,\n",
    "         0.23892179],\n",
    "       [ 0.11943333,  0.29198961,  0.02605103,  0.26234032,  0.1351348 ,\n",
    "         0.16505091],\n",
    "       [ 0.09561176,  0.34396535,  0.0643941 ,  0.16240774,  0.24206137,\n",
    "         0.09155967]])\n",
    "```\n",
    "\n",
    "Running it through `sess.run(tf.nn.top_k(tf.constant(a), k=3))` produces:\n",
    "\n",
    "```\n",
    "TopKV2(values=array([[ 0.34763842,  0.24879643,  0.12789202],\n",
    "       [ 0.28086119,  0.27569815,  0.18063401],\n",
    "       [ 0.26076848,  0.23892179,  0.23664738],\n",
    "       [ 0.29198961,  0.26234032,  0.16505091],\n",
    "       [ 0.34396535,  0.24206137,  0.16240774]]), indices=array([[3, 0, 5],\n",
    "       [0, 1, 4],\n",
    "       [0, 5, 1],\n",
    "       [1, 3, 5],\n",
    "       [1, 4, 3]], dtype=int32))\n",
    "```\n",
    "\n",
    "Looking just at the first row we get `[ 0.34763842,  0.24879643,  0.12789202]`, you can confirm these are the 3 largest probabilities in `a`. You'll also notice `[3, 0, 5]` are the corresponding indices."
   ]
  },
  {
   "cell_type": "code",
   "execution_count": null,
   "metadata": {
    "collapsed": true
   },
   "outputs": [],
   "source": [
    "### Print out the top five softmax probabilities for the predictions on the German traffic sign images found on the web. \n",
    "### Feel free to use as many code cells as needed."
   ]
  },
  {
   "cell_type": "markdown",
   "metadata": {},
   "source": [
    "### Project Writeup\n",
    "\n",
    "Once you have completed the code implementation, document your results in a project writeup using this [template](https://github.com/udacity/CarND-Traffic-Sign-Classifier-Project/blob/master/writeup_template.md) as a guide. The writeup can be in a markdown or pdf file. "
   ]
  },
  {
   "cell_type": "markdown",
   "metadata": {},
   "source": [
    "> **Note**: Once you have completed all of the code implementations and successfully answered each question above, you may finalize your work by exporting the iPython Notebook as an HTML document. You can do this by using the menu above and navigating to  \\n\",\n",
    "    \"**File -> Download as -> HTML (.html)**. Include the finished document along with this notebook as your submission."
   ]
  },
  {
   "cell_type": "markdown",
   "metadata": {},
   "source": [
    "---\n",
    "\n",
    "## Step 4 (Optional): Visualize the Neural Network's State with Test Images\n",
    "\n",
    " This Section is not required to complete but acts as an additional excersise for understaning the output of a neural network's weights. While neural networks can be a great learning device they are often referred to as a black box. We can understand what the weights of a neural network look like better by plotting their feature maps. After successfully training your neural network you can see what it's feature maps look like by plotting the output of the network's weight layers in response to a test stimuli image. From these plotted feature maps, it's possible to see what characteristics of an image the network finds interesting. For a sign, maybe the inner network feature maps react with high activation to the sign's boundary outline or to the contrast in the sign's painted symbol.\n",
    "\n",
    " Provided for you below is the function code that allows you to get the visualization output of any tensorflow weight layer you want. The inputs to the function should be a stimuli image, one used during training or a new one you provided, and then the tensorflow variable name that represents the layer's state during the training process, for instance if you wanted to see what the [LeNet lab's](https://classroom.udacity.com/nanodegrees/nd013/parts/fbf77062-5703-404e-b60c-95b78b2f3f9e/modules/6df7ae49-c61c-4bb2-a23e-6527e69209ec/lessons/601ae704-1035-4287-8b11-e2c2716217ad/concepts/d4aca031-508f-4e0b-b493-e7b706120f81) feature maps looked like for it's second convolutional layer you could enter conv2 as the tf_activation variable.\n",
    "\n",
    "For an example of what feature map outputs look like, check out NVIDIA's results in their paper [End-to-End Deep Learning for Self-Driving Cars](https://devblogs.nvidia.com/parallelforall/deep-learning-self-driving-cars/) in the section Visualization of internal CNN State. NVIDIA was able to show that their network's inner weights had high activations to road boundary lines by comparing feature maps from an image with a clear path to one without. Try experimenting with a similar test to show that your trained network's weights are looking for interesting features, whether it's looking at differences in feature maps from images with or without a sign, or even what feature maps look like in a trained network vs a completely untrained one on the same sign image.\n",
    "\n",
    "<figure>\n",
    " <img src=\"visualize_cnn.png\" width=\"380\" alt=\"Combined Image\" />\n",
    " <figcaption>\n",
    " <p></p> \n",
    " <p style=\"text-align: center;\"> Your output should look something like this (above)</p> \n",
    " </figcaption>\n",
    "</figure>\n",
    " <p></p> \n"
   ]
  },
  {
   "cell_type": "code",
   "execution_count": null,
   "metadata": {
    "collapsed": true
   },
   "outputs": [],
   "source": [
    "### Visualize your network's feature maps here.\n",
    "### Feel free to use as many code cells as needed.\n",
    "\n",
    "# image_input: the test image being fed into the network to produce the feature maps\n",
    "# tf_activation: should be a tf variable name used during your training procedure that represents the calculated state of a specific weight layer\n",
    "# activation_min/max: can be used to view the activation contrast in more detail, by default matplot sets min and max to the actual min and max values of the output\n",
    "# plt_num: used to plot out multiple different weight feature map sets on the same block, just extend the plt number for each new feature map entry\n",
    "\n",
    "def outputFeatureMap(image_input, tf_activation, activation_min=-1, activation_max=-1 ,plt_num=1):\n",
    "    # Here make sure to preprocess your image_input in a way your network expects\n",
    "    # with size, normalization, ect if needed\n",
    "    # image_input =\n",
    "    # Note: x should be the same name as your network's tensorflow data placeholder variable\n",
    "    # If you get an error tf_activation is not defined it may be having trouble accessing the variable from inside a function\n",
    "    activation = tf_activation.eval(session=sess,feed_dict={x : image_input})\n",
    "    featuremaps = activation.shape[3]\n",
    "    plt.figure(plt_num, figsize=(15,15))\n",
    "    for featuremap in range(featuremaps):\n",
    "        plt.subplot(6,8, featuremap+1) # sets the number of feature maps to show on each row and column\n",
    "        plt.title('FeatureMap ' + str(featuremap)) # displays the feature map number\n",
    "        if activation_min != -1 & activation_max != -1:\n",
    "            plt.imshow(activation[0,:,:, featuremap], interpolation=\"nearest\", vmin =activation_min, vmax=activation_max, cmap=\"gray\")\n",
    "        elif activation_max != -1:\n",
    "            plt.imshow(activation[0,:,:, featuremap], interpolation=\"nearest\", vmax=activation_max, cmap=\"gray\")\n",
    "        elif activation_min !=-1:\n",
    "            plt.imshow(activation[0,:,:, featuremap], interpolation=\"nearest\", vmin=activation_min, cmap=\"gray\")\n",
    "        else:\n",
    "            plt.imshow(activation[0,:,:, featuremap], interpolation=\"nearest\", cmap=\"gray\")"
   ]
  }
 ],
 "metadata": {
  "anaconda-cloud": {},
  "kernelspec": {
   "display_name": "Python 3",
   "language": "python",
   "name": "python3"
  },
  "language_info": {
   "codemirror_mode": {
    "name": "ipython",
    "version": 3
   },
   "file_extension": ".py",
   "mimetype": "text/x-python",
   "name": "python",
   "nbconvert_exporter": "python",
   "pygments_lexer": "ipython3",
   "version": "3.4.3"
  }
 },
 "nbformat": 4,
 "nbformat_minor": 1
}
